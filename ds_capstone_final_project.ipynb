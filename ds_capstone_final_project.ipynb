{
    "cells": [
        {
            "metadata": {
                "collapsed": true
            },
            "cell_type": "markdown",
            "source": "## Section 0: Introduction/Business Problem"
        },
        {
            "metadata": {},
            "cell_type": "markdown",
            "source": "### Brief Description:\n"
        },
        {
            "metadata": {},
            "cell_type": "markdown",
            "source": "1. Business Problem: Restaurant looking to expand into new geographical locations and Franchise.\n2. Audience: Fine Dining Restaurant Owner or Market Researcher\n3. Goal: To evaluate and compare between New York City, NY and Boston, MA and evaluate different metrics (fine dinner restaurant/sq mile...etc)\nto determine which city is more practical to expand the business."
        },
        {
            "metadata": {},
            "cell_type": "markdown",
            "source": "## Section 1: Data Requirements"
        },
        {
            "metadata": {},
            "cell_type": "markdown",
            "source": "### Datasets"
        },
        {
            "metadata": {},
            "cell_type": "markdown",
            "source": "1. New York City, NY - Restaurants in city along with details, such as rating, price...etc\n2. Boston, MA - Restaurants in city along with details, such as rating, price...etc "
        },
        {
            "metadata": {},
            "cell_type": "code",
            "source": "",
            "execution_count": null,
            "outputs": []
        }
    ],
    "metadata": {
        "kernelspec": {
            "name": "python3",
            "display_name": "Python 3.6",
            "language": "python"
        },
        "language_info": {
            "name": "python",
            "version": "3.6.9",
            "mimetype": "text/x-python",
            "codemirror_mode": {
                "name": "ipython",
                "version": 3
            },
            "pygments_lexer": "ipython3",
            "nbconvert_exporter": "python",
            "file_extension": ".py"
        }
    },
    "nbformat": 4,
    "nbformat_minor": 1
}