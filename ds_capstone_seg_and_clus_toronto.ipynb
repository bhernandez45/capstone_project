{
    "cells": [
        {
            "cell_type": "markdown",
            "metadata": {},
            "source": "<a href=\"https://cognitiveclass.ai\"><img src = \"https://ibm.box.com/shared/static/9gegpsmnsoo25ikkbl4qzlvlyjbgxs5x.png\" width = 400> </a>\n\n<h1 align=center><font size = 5>Segmenting and Clustering Neighborhoods in Toronto</font></h1>"
        },
        {
            "cell_type": "markdown",
            "metadata": {},
            "source": "## Capstone Assignment\n\nIn this assignment I am going to get Toronto dataset from wikipedia page, clean/format data and run some analyses on the dataset."
        },
        {
            "cell_type": "markdown",
            "metadata": {},
            "source": "Downloading needed packages"
        },
        {
            "cell_type": "code",
            "execution_count": null,
            "metadata": {},
            "outputs": [],
            "source": "import numpy as np # library to handle data in a vectorized manner\n\nimport pandas as pd # library for data analsysis\npd.set_option('display.max_columns', None)\npd.set_option('display.max_rows', None)\n\nimport json # library to handle JSON files\n\n#!conda install -c conda-forge geopy --yes # uncomment this line if you haven't completed the Foursquare API lab\n#from geopy.geocoders import Nominatim # convert an address into latitude and longitude values\n\nimport requests # library to handle requests\nfrom pandas.io.json import json_normalize # tranform JSON file into a pandas dataframe\n\n# Matplotlib and associated plotting modules\nimport matplotlib.cm as cm\nimport matplotlib.colors as colors\nimport matplotlib.pyplot as plt\n\n# import k-means from clustering stage\nfrom sklearn.cluster import KMeans\n\n#!conda install -c conda-forge folium=0.5.0 --yes # uncomment this line if you haven't completed the Foursquare API lab\n#import folium # map rendering library\n\n#additional\nimport seaborn as sns\n%matplotlib inline\n\n#web scraping\nimport bs4\nfrom urllib.request import urlopen\nfrom bs4 import BeautifulSoup\n\nprint('Libraries imported.')"
        },
        {
            "cell_type": "markdown",
            "metadata": {},
            "source": "<a id='item1'></a>"
        },
        {
            "cell_type": "markdown",
            "metadata": {},
            "source": "## 1. Loading and Cleaning the Toronto Dataset"
        },
        {
            "cell_type": "markdown",
            "metadata": {},
            "source": "To load the data I am using beautiful soup "
        },
        {
            "cell_type": "code",
            "execution_count": null,
            "metadata": {
                "scrolled": true
            },
            "outputs": [],
            "source": "#web scraping\nimport bs4\nfrom urllib.request import urlopen\nfrom bs4 import BeautifulSoup\n\n\n#opens webpage/initiates call\nurl = \"https://en.wikipedia.org/wiki/List_of_postal_codes_of_Canada:_M\"\nhtml = urlopen(url)\n\n\n#converting html into lxml format\nsoup = BeautifulSoup(html, 'lxml')\ntype(soup)\n\n#using bs4 from beautiful soup\nbs4.BeautifulSoup"
        },
        {
            "cell_type": "code",
            "execution_count": null,
            "metadata": {},
            "outputs": [],
            "source": "#variabilizing html code to get title and text\ntitle = soup.title\nprint(title)\ntext = soup.get_text()"
        },
        {
            "cell_type": "code",
            "execution_count": 3,
            "metadata": {},
            "outputs": [
                {
                    "name": "stdout",
                    "output_type": "stream",
                    "text": "['[]', '[M1A\\n, Not assigned\\n, \\n]', '[M2A\\n, Not assigned\\n, \\n]', '[M3A\\n, North York\\n, Parkwoods\\n]', '[M4A\\n, North York\\n, Victoria Village\\n]', '[M5A\\n, Downtown Toronto\\n, Regent Park / Harbourfront\\n]', '[M6A\\n, North York\\n, Lawrence Manor / Lawrence Heights\\n]', \"[M7A\\n, Downtown Toronto\\n, Queen's Park / Ontario Provincial Government\\n]\", '[M8A\\n, Not assigned\\n, \\n]', '[M9A\\n, Etobicoke\\n, Islington Avenue\\n]', '[M1B\\n, Scarborough\\n, Malvern / Rouge\\n]', '[M2B\\n, Not assigned\\n, \\n]', '[M3B\\n, North York\\n, Don Mills\\n]', '[M4B\\n, East York\\n, Parkview Hill / Woodbine Gardens\\n]', '[M5B\\n, Downtown Toronto\\n, Garden District, Ryerson\\n]', '[M6B\\n, North York\\n, Glencairn\\n]', '[M7B\\n, Not assigned\\n, \\n]', '[M8B\\n, Not assigned\\n, \\n]', '[M9B\\n, Etobicoke\\n, West Deane Park / Princess Gardens / Martin Grove / Islington / Cloverdale\\n]', '[M1C\\n, Scarborough\\n, Rouge Hill / Port Union / Highland Creek\\n]', '[M2C\\n, Not assigned\\n, \\n]', '[M3C\\n, North York\\n, Don Mills\\n]', '[M4C\\n, East York\\n, Woodbine Heights\\n]', '[M5C\\n, Downtown Toronto\\n, St. James Town\\n]', '[M6C\\n, York\\n, Humewood-Cedarvale\\n]', '[M7C\\n, Not assigned\\n, \\n]', '[M8C\\n, Not assigned\\n, \\n]', '[M9C\\n, Etobicoke\\n, Eringate / Bloordale Gardens / Old Burnhamthorpe / Markland Wood\\n]', '[M1E\\n, Scarborough\\n, Guildwood / Morningside / West Hill\\n]', '[M2E\\n, Not assigned\\n, \\n]', '[M3E\\n, Not assigned\\n, \\n]', '[M4E\\n, East Toronto\\n, The Beaches\\n]', '[M5E\\n, Downtown Toronto\\n, Berczy Park\\n]', '[M6E\\n, York\\n, Caledonia-Fairbanks\\n]', '[M7E\\n, Not assigned\\n, \\n]', '[M8E\\n, Not assigned\\n, \\n]', '[M9E\\n, Not assigned\\n, \\n]', '[M1G\\n, Scarborough\\n, Woburn\\n]', '[M2G\\n, Not assigned\\n, \\n]', '[M3G\\n, Not assigned\\n, \\n]', '[M4G\\n, East York\\n, Leaside\\n]', '[M5G\\n, Downtown Toronto\\n, Central Bay Street\\n]', '[M6G\\n, Downtown Toronto\\n, Christie\\n]', '[M7G\\n, Not assigned\\n, \\n]', '[M8G\\n, Not assigned\\n, \\n]', '[M9G\\n, Not assigned\\n, \\n]', '[M1H\\n, Scarborough\\n, Cedarbrae\\n]', '[M2H\\n, North York\\n, Hillcrest Village\\n]', '[M3H\\n, North York\\n, Bathurst Manor / Wilson Heights / Downsview North\\n]', '[M4H\\n, East York\\n, Thorncliffe Park\\n]', '[M5H\\n, Downtown Toronto\\n, Richmond / Adelaide / King\\n]', '[M6H\\n, West Toronto\\n, Dufferin / Dovercourt Village\\n]', '[M7H\\n, Not assigned\\n, \\n]', '[M8H\\n, Not assigned\\n, \\n]', '[M9H\\n, Not assigned\\n, \\n]', '[M1J\\n, Scarborough\\n, Scarborough Village\\n]', '[M2J\\n, North York\\n, Fairview / Henry Farm / Oriole\\n]', '[M3J\\n, North York\\n, Northwood Park / York University\\n]', '[M4J\\n, East York\\n, East Toronto\\n]', '[M5J\\n, Downtown Toronto\\n, Harbourfront East / Union Station / Toronto Islands\\n]', '[M6J\\n, West Toronto\\n, Little Portugal / Trinity\\n]', '[M7J\\n, Not assigned\\n, \\n]', '[M8J\\n, Not assigned\\n, \\n]', '[M9J\\n, Not assigned\\n, \\n]', '[M1K\\n, Scarborough\\n, Kennedy Park / Ionview / East Birchmount Park\\n]', '[M2K\\n, North York\\n, Bayview Village\\n]', '[M3K\\n, North York\\n, Downsview\\n]', '[M4K\\n, East Toronto\\n, The Danforth West / Riverdale\\n]', '[M5K\\n, Downtown Toronto\\n, Toronto Dominion Centre / Design Exchange\\n]', '[M6K\\n, West Toronto\\n, Brockton / Parkdale Village / Exhibition Place\\n]', '[M7K\\n, Not assigned\\n, \\n]', '[M8K\\n, Not assigned\\n, \\n]', '[M9K\\n, Not assigned\\n, \\n]', '[M1L\\n, Scarborough\\n, Golden Mile / Clairlea / Oakridge\\n]', '[M2L\\n, North York\\n, York Mills / Silver Hills\\n]', '[M3L\\n, North York\\n, Downsview\\n]', '[M4L\\n, East Toronto\\n, India Bazaar / The Beaches West\\n]', '[M5L\\n, Downtown Toronto\\n, Commerce Court / Victoria Hotel\\n]', '[M6L\\n, North York\\n, North Park / Maple Leaf Park / Upwood Park\\n]', '[M7L\\n, Not assigned\\n, \\n]', '[M8L\\n, Not assigned\\n, \\n]', '[M9L\\n, North York\\n, Humber Summit\\n]', '[M1M\\n, Scarborough\\n, Cliffside / Cliffcrest / Scarborough Village West\\n]', '[M2M\\n, North York\\n, Willowdale / Newtonbrook\\n]', '[M3M\\n, North York\\n, Downsview\\n]', '[M4M\\n, East Toronto\\n, Studio District\\n]', '[M5M\\n, North York\\n, Bedford Park / Lawrence Manor East\\n]', '[M6M\\n, York\\n, Del Ray / Mount Dennis / Keelsdale and Silverthorn\\n]', '[M7M\\n, Not assigned\\n, \\n]', '[M8M\\n, Not assigned\\n, \\n]', '[M9M\\n, North York\\n, Humberlea / Emery\\n]', '[M1N\\n, Scarborough\\n, Birch Cliff / Cliffside West\\n]', '[M2N\\n, North York\\n, Willowdale\\n]', '[M3N\\n, North York\\n, Downsview\\n]', '[M4N\\n, Central Toronto\\n, Lawrence Park\\n]', '[M5N\\n, Central Toronto\\n, Roselawn\\n]', '[M6N\\n, York\\n, Runnymede / The Junction North\\n]', '[M7N\\n, Not assigned\\n, \\n]', '[M8N\\n, Not assigned\\n, \\n]', '[M9N\\n, York\\n, Weston\\n]', '[M1P\\n, Scarborough\\n, Dorset Park / Wexford Heights / Scarborough Town Centre\\n]', '[M2P\\n, North York\\n, York Mills West\\n]', '[M3P\\n, Not assigned\\n, \\n]', '[M4P\\n, Central Toronto\\n, Davisville North\\n]', '[M5P\\n, Central Toronto\\n, Forest Hill North &amp; West\\n]', '[M6P\\n, West Toronto\\n, High Park / The Junction South\\n]', '[M7P\\n, Not assigned\\n, \\n]', '[M8P\\n, Not assigned\\n, \\n]', '[M9P\\n, Etobicoke\\n, Westmount\\n]', '[M1R\\n, Scarborough\\n, Wexford / Maryvale\\n]', '[M2R\\n, North York\\n, Willowdale\\n]', '[M3R\\n, Not assigned\\n, \\n]', '[M4R\\n, Central Toronto\\n, North Toronto West\\n]', '[M5R\\n, Central Toronto\\n, The Annex / North Midtown / Yorkville\\n]', '[M6R\\n, West Toronto\\n, Parkdale / Roncesvalles\\n]', '[M7R\\n, Mississauga\\n, Canada Post Gateway Processing Centre\\n]', '[M8R\\n, Not assigned\\n, \\n]', '[M9R\\n, Etobicoke\\n, Kingsview Village / St. Phillips / Martin Grove Gardens / Richview Gardens\\n]', '[M1S\\n, Scarborough\\n, Agincourt\\n]', '[M2S\\n, Not assigned\\n, \\n]', '[M3S\\n, Not assigned\\n, \\n]', '[M4S\\n, Central Toronto\\n, Davisville\\n]', '[M5S\\n, Downtown Toronto\\n, University of Toronto / Harbord\\n]', '[M6S\\n, West Toronto\\n, Runnymede / Swansea\\n]', '[M7S\\n, Not assigned\\n, \\n]', '[M8S\\n, Not assigned\\n, \\n]', '[M9S\\n, Not assigned\\n, \\n]', \"[M1T\\n, Scarborough\\n, Clarks Corners / Tam O'Shanter / Sullivan\\n]\", '[M2T\\n, Not assigned\\n, \\n]', '[M3T\\n, Not assigned\\n, \\n]', '[M4T\\n, Central Toronto\\n, Moore Park / Summerhill East\\n]', '[M5T\\n, Downtown Toronto\\n, Kensington Market / Chinatown / Grange Park\\n]', '[M6T\\n, Not assigned\\n, \\n]', '[M7T\\n, Not assigned\\n, \\n]', '[M8T\\n, Not assigned\\n, \\n]', '[M9T\\n, Not assigned\\n, \\n]', \"[M1V\\n, Scarborough\\n, Milliken / Agincourt North / Steeles East / L'Amoreaux East\\n]\", '[M2V\\n, Not assigned\\n, \\n]', '[M3V\\n, Not assigned\\n, \\n]', '[M4V\\n, Central Toronto\\n, Summerhill West / Rathnelly / South Hill / Forest Hill SE / Deer Park\\n]', '[M5V\\n, Downtown Toronto\\n, CN Tower / King and Spadina / Railway Lands / Harbourfront West / Bathurst Quay / South Niagara / Island airport\\n]', '[M6V\\n, Not assigned\\n, \\n]', '[M7V\\n, Not assigned\\n, \\n]', '[M8V\\n, Etobicoke\\n, New Toronto / Mimico South / Humber Bay Shores\\n]', '[M9V\\n, Etobicoke\\n, South Steeles / Silverstone / Humbergate / Jamestown / Mount Olive / Beaumond Heights / Thistletown / Albion Gardens\\n]', \"[M1W\\n, Scarborough\\n, Steeles West / L'Amoreaux West\\n]\", '[M2W\\n, Not assigned\\n, \\n]', '[M3W\\n, Not assigned\\n, \\n]', '[M4W\\n, Downtown Toronto\\n, Rosedale\\n]', '[M5W\\n, Downtown Toronto\\n, Stn A PO Boxes\\n]', '[M6W\\n, Not assigned\\n, \\n]', '[M7W\\n, Not assigned\\n, \\n]', '[M8W\\n, Etobicoke\\n, Alderwood / Long Branch\\n]', '[M9W\\n, Etobicoke\\n, Northwest\\n]', '[M1X\\n, Scarborough\\n, Upper Rouge\\n]', '[M2X\\n, Not assigned\\n, \\n]', '[M3X\\n, Not assigned\\n, \\n]', '[M4X\\n, Downtown Toronto\\n, St. James Town / Cabbagetown\\n]', '[M5X\\n, Downtown Toronto\\n, First Canadian Place / Underground city\\n]', '[M6X\\n, Not assigned\\n, \\n]', '[M7X\\n, Not assigned\\n, \\n]', '[M8X\\n, Etobicoke\\n, The Kingsway / Montgomery Road  / Old Mill North\\n]', '[M9X\\n, Not assigned\\n, \\n]', '[M1Y\\n, Not assigned\\n, \\n]', '[M2Y\\n, Not assigned\\n, \\n]', '[M3Y\\n, Not assigned\\n, \\n]', '[M4Y\\n, Downtown Toronto\\n, Church and Wellesley\\n]', '[M5Y\\n, Not assigned\\n, \\n]', '[M6Y\\n, Not assigned\\n, \\n]', '[M7Y\\n, East Toronto\\n, Business reply mail Processing CentrE\\n]', \"[M8Y\\n, Etobicoke\\n, Old Mill South / King's Mill Park / Sunnylea / Humber Bay / Mimico NE / The Queensway East / Royal York South East / Kingsway Park South East\\n]\", '[M9Y\\n, Not assigned\\n, \\n]', '[M1Z\\n, Not assigned\\n, \\n]', '[M2Z\\n, Not assigned\\n, \\n]', '[M3Z\\n, Not assigned\\n, \\n]', '[M4Z\\n, Not assigned\\n, \\n]', '[M5Z\\n, Not assigned\\n, \\n]', '[M6Z\\n, Not assigned\\n, \\n]', '[M7Z\\n, Not assigned\\n, \\n]', '[M8Z\\n, Etobicoke\\n, Mimico NW / The Queensway West / South of Bloor / Kingsway Park South West / Royal York South West\\n]', '[M9Z\\n, Not assigned\\n, \\n]', '[\\n, \\n]', '[\\n\\n\\nNL\\n\\nNS\\n\\nPE\\n\\nNB\\n\\nQC\\n\\nON\\n\\nMB\\n\\nSK\\n\\nAB\\n\\nBC\\n\\nNU/NT\\n\\nYT\\n\\n\\nA\\n\\nB\\n\\nC\\n\\nE\\n\\nG\\n\\nH\\n\\nJ\\n\\nK\\n\\nL\\n\\nM\\n\\nN\\n\\nP\\n\\nR\\n\\nS\\n\\nT\\n\\nV\\n\\nX\\n\\nY\\n\\n, NL\\n, NS\\n, PE\\n, NB\\n, QC\\n, ON\\n, MB\\n, SK\\n, AB\\n, BC\\n, NU/NT\\n, YT\\n, A\\n, B\\n, C\\n, E\\n, G\\n, H\\n, J\\n, K\\n, L\\n, M\\n, N\\n, P\\n, R\\n, S\\n, T\\n, V\\n, X\\n, Y\\n]', '[NL\\n, NS\\n, PE\\n, NB\\n, QC\\n, ON\\n, MB\\n, SK\\n, AB\\n, BC\\n, NU/NT\\n, YT\\n]', '[A\\n, B\\n, C\\n, E\\n, G\\n, H\\n, J\\n, K\\n, L\\n, M\\n, N\\n, P\\n, R\\n, S\\n, T\\n, V\\n, X\\n, Y\\n]']\n"
                }
            ],
            "source": "#tr = table rows\n#td = table data\n# Previewing data\nrows = soup.find_all('tr')\n#print(rows[:10])\n\n#looping through to extract data rows\nfor row in rows:\n    row_td = row.find_all('td')\n#print(row_td)\ntype(row_td)\n\nimport re\n\n#getting rows for tables\nlist_rows = []\nfor row in rows:\n    cells = row.find_all('td')\n    str_cells = str(cells)\n    clean = re.compile('<.*?>')\n    clean2 = (re.sub(clean, '',str_cells))\n    list_rows.append(clean2)\nprint(list_rows)"
        },
        {
            "cell_type": "code",
            "execution_count": 4,
            "metadata": {},
            "outputs": [
                {
                    "ename": "NameError",
                    "evalue": "name 'pd' is not defined",
                    "output_type": "error",
                    "traceback": [
                        "\u001b[0;31m---------------------------------------------------------------------------\u001b[0m",
                        "\u001b[0;31mNameError\u001b[0m                                 Traceback (most recent call last)",
                        "\u001b[0;32m<ipython-input-4-78f996a2ef98>\u001b[0m in \u001b[0;36m<module>\u001b[0;34m\u001b[0m\n\u001b[0;32m----> 1\u001b[0;31m \u001b[0mdf\u001b[0m \u001b[0;34m=\u001b[0m \u001b[0mpd\u001b[0m\u001b[0;34m.\u001b[0m\u001b[0mDataFrame\u001b[0m\u001b[0;34m(\u001b[0m\u001b[0mlist_rows\u001b[0m\u001b[0;34m)\u001b[0m\u001b[0;34m\u001b[0m\u001b[0;34m\u001b[0m\u001b[0m\n\u001b[0m\u001b[1;32m      2\u001b[0m \u001b[0mdf\u001b[0m\u001b[0;34m.\u001b[0m\u001b[0mhead\u001b[0m\u001b[0;34m(\u001b[0m\u001b[0;36m10\u001b[0m\u001b[0;34m)\u001b[0m\u001b[0;34m\u001b[0m\u001b[0;34m\u001b[0m\u001b[0m\n\u001b[1;32m      3\u001b[0m \u001b[0;31m#splitting out from comma sperated values\u001b[0m\u001b[0;34m\u001b[0m\u001b[0;34m\u001b[0m\u001b[0;34m\u001b[0m\u001b[0m\n\u001b[1;32m      4\u001b[0m \u001b[0mdf1\u001b[0m \u001b[0;34m=\u001b[0m \u001b[0mdf\u001b[0m\u001b[0;34m[\u001b[0m\u001b[0;36m0\u001b[0m\u001b[0;34m]\u001b[0m\u001b[0;34m.\u001b[0m\u001b[0mstr\u001b[0m\u001b[0;34m.\u001b[0m\u001b[0msplit\u001b[0m\u001b[0;34m(\u001b[0m\u001b[0;34m','\u001b[0m\u001b[0;34m,\u001b[0m \u001b[0mexpand\u001b[0m\u001b[0;34m=\u001b[0m\u001b[0;32mTrue\u001b[0m\u001b[0;34m)\u001b[0m\u001b[0;34m\u001b[0m\u001b[0;34m\u001b[0m\u001b[0m\n\u001b[1;32m      5\u001b[0m \u001b[0mdf1\u001b[0m\u001b[0;34m.\u001b[0m\u001b[0mhead\u001b[0m\u001b[0;34m(\u001b[0m\u001b[0;36m200\u001b[0m\u001b[0;34m)\u001b[0m\u001b[0;34m\u001b[0m\u001b[0;34m\u001b[0m\u001b[0m\n",
                        "\u001b[0;31mNameError\u001b[0m: name 'pd' is not defined"
                    ]
                }
            ],
            "source": "df = pd.DataFrame(list_rows)\ndf.head(10)\n#splitting out from comma sperated values\ndf1 = df[0].str.split(',', expand=True)\ndf1.head(200)\ncount = df.count()\n\n#cleaning up rows and columns\ndf1 = df1.drop([0],axis=0)\ndf1 = df1[[0,1,2]]\n\n#cleaning up new lines html code\ndf1 = df1.replace(r'\\n',  '', regex=True)\ndf1 = df1.replace(r' / ',  ',', regex=True)\ndf1[0] = df1[0].str.strip('[]')\ndf1[2] = df1[2].str.strip('[]')\ndf1.head(50)\n\n#getting column headers\ncol_labels = soup.find_all('th')\n\nall_header = []\ncol_str = str(col_labels)\ncol_str = BeautifulSoup(col_str, \"lxml\").get_text()\n\nall_header.append(col_str)\ndf2 = pd.DataFrame(all_header)\ndf2.head()\n\ndf2 = df2[0].str.split(',', expand=True)\n\ndf2 = df2[[0,1,2]]\n\ndf2 = df2.replace(r'\\n',  '', regex=True)\ndf2[0] = df2[0].str.strip('[')\ndf2[2] = df2[2].str.strip('')\ndf2.head()"
        },
        {
            "cell_type": "code",
            "execution_count": 7,
            "metadata": {},
            "outputs": [
                {
                    "ename": "NameError",
                    "evalue": "name 'df2' is not defined",
                    "output_type": "error",
                    "traceback": [
                        "\u001b[0;31m---------------------------------------------------------------------------\u001b[0m",
                        "\u001b[0;31mNameError\u001b[0m                                 Traceback (most recent call last)",
                        "\u001b[0;32m<ipython-input-7-1f04a6f5d039>\u001b[0m in \u001b[0;36m<module>\u001b[0;34m\u001b[0m\n\u001b[1;32m      1\u001b[0m \u001b[0;31m#combining data and headers\u001b[0m\u001b[0;34m\u001b[0m\u001b[0;34m\u001b[0m\u001b[0;34m\u001b[0m\u001b[0m\n\u001b[0;32m----> 2\u001b[0;31m \u001b[0mframes\u001b[0m \u001b[0;34m=\u001b[0m \u001b[0;34m[\u001b[0m\u001b[0mdf2\u001b[0m\u001b[0;34m,\u001b[0m \u001b[0mdf1\u001b[0m\u001b[0;34m]\u001b[0m\u001b[0;34m\u001b[0m\u001b[0;34m\u001b[0m\u001b[0m\n\u001b[0m\u001b[1;32m      3\u001b[0m \u001b[0;34m\u001b[0m\u001b[0m\n\u001b[1;32m      4\u001b[0m \u001b[0mdf\u001b[0m \u001b[0;34m=\u001b[0m \u001b[0mpd\u001b[0m\u001b[0;34m.\u001b[0m\u001b[0mconcat\u001b[0m\u001b[0;34m(\u001b[0m\u001b[0mframes\u001b[0m\u001b[0;34m)\u001b[0m\u001b[0;34m\u001b[0m\u001b[0;34m\u001b[0m\u001b[0m\n\u001b[1;32m      5\u001b[0m \u001b[0mdf\u001b[0m \u001b[0;34m=\u001b[0m \u001b[0mdf\u001b[0m\u001b[0;34m.\u001b[0m\u001b[0mrename\u001b[0m\u001b[0;34m(\u001b[0m\u001b[0mcolumns\u001b[0m\u001b[0;34m=\u001b[0m\u001b[0mdf\u001b[0m\u001b[0;34m.\u001b[0m\u001b[0miloc\u001b[0m\u001b[0;34m[\u001b[0m\u001b[0;36m0\u001b[0m\u001b[0;34m]\u001b[0m\u001b[0;34m)\u001b[0m\u001b[0;34m\u001b[0m\u001b[0;34m\u001b[0m\u001b[0m\n",
                        "\u001b[0;31mNameError\u001b[0m: name 'df2' is not defined"
                    ]
                }
            ],
            "source": "#combining data and headers\nframes = [df2, df1]\n\ndf = pd.concat(frames)\ndf = df.rename(columns=df.iloc[0])\ndf = df.drop(0,axis=0)\ndf.head(10)"
        },
        {
            "cell_type": "code",
            "execution_count": 2,
            "metadata": {},
            "outputs": [
                {
                    "ename": "NameError",
                    "evalue": "name 'df' is not defined",
                    "output_type": "error",
                    "traceback": [
                        "\u001b[0;31m---------------------------------------------------------------------------\u001b[0m",
                        "\u001b[0;31mNameError\u001b[0m                                 Traceback (most recent call last)",
                        "\u001b[0;32m<ipython-input-2-fcbb823ef868>\u001b[0m in \u001b[0;36m<module>\u001b[0;34m\u001b[0m\n\u001b[1;32m      1\u001b[0m \u001b[0;31m#filtering out not assigned\u001b[0m\u001b[0;34m\u001b[0m\u001b[0;34m\u001b[0m\u001b[0;34m\u001b[0m\u001b[0m\n\u001b[0;32m----> 2\u001b[0;31m \u001b[0mdf\u001b[0m \u001b[0;34m=\u001b[0m \u001b[0mdf\u001b[0m\u001b[0;34m[\u001b[0m\u001b[0mdf\u001b[0m\u001b[0;34m[\u001b[0m\u001b[0;34m' Borough'\u001b[0m\u001b[0;34m]\u001b[0m \u001b[0;34m!=\u001b[0m \u001b[0;34m' Not assigned'\u001b[0m\u001b[0;34m]\u001b[0m\u001b[0;34m\u001b[0m\u001b[0;34m\u001b[0m\u001b[0m\n\u001b[0m\u001b[1;32m      3\u001b[0m \u001b[0;31m#filtering out bad data\u001b[0m\u001b[0;34m\u001b[0m\u001b[0;34m\u001b[0m\u001b[0;34m\u001b[0m\u001b[0m\n\u001b[1;32m      4\u001b[0m \u001b[0mdf\u001b[0m \u001b[0;34m=\u001b[0m \u001b[0mdf\u001b[0m\u001b[0;34m[\u001b[0m\u001b[0mdf\u001b[0m\u001b[0;34m[\u001b[0m\u001b[0;34m'Postal code'\u001b[0m\u001b[0;34m]\u001b[0m\u001b[0;34m.\u001b[0m\u001b[0mstr\u001b[0m\u001b[0;34m.\u001b[0m\u001b[0mlen\u001b[0m\u001b[0;34m(\u001b[0m\u001b[0;34m)\u001b[0m\u001b[0;34m==\u001b[0m\u001b[0;36m3\u001b[0m\u001b[0;34m]\u001b[0m\u001b[0;34m\u001b[0m\u001b[0;34m\u001b[0m\u001b[0m\n\u001b[1;32m      5\u001b[0m \u001b[0;31m#printing shape\u001b[0m\u001b[0;34m\u001b[0m\u001b[0;34m\u001b[0m\u001b[0;34m\u001b[0m\u001b[0m\n",
                        "\u001b[0;31mNameError\u001b[0m: name 'df' is not defined"
                    ]
                }
            ],
            "source": "#filtering out not assigned\ndf = df[df[' Borough'] != ' Not assigned']\n#filtering out bad data\ndf = df[df['Postal code'].str.len()==3]\n#printing shape\nprint('The shape of the data frame is:',df.shape)\n"
        },
        {
            "cell_type": "markdown",
            "metadata": {},
            "source": "## 2. Loading in the Longitude/Latitude Coordinates"
        },
        {
            "cell_type": "code",
            "execution_count": 1,
            "metadata": {},
            "outputs": [
                {
                    "ename": "ModuleNotFoundError",
                    "evalue": "No module named 'geocoder'",
                    "output_type": "error",
                    "traceback": [
                        "\u001b[0;31m---------------------------------------------------------------------------\u001b[0m",
                        "\u001b[0;31mModuleNotFoundError\u001b[0m                       Traceback (most recent call last)",
                        "\u001b[0;32m<ipython-input-1-4856539806fb>\u001b[0m in \u001b[0;36m<module>\u001b[0;34m\u001b[0m\n\u001b[1;32m      1\u001b[0m \u001b[0;31m#using geocoder to get the longitude and latitude based upon the postal code\u001b[0m\u001b[0;34m\u001b[0m\u001b[0;34m\u001b[0m\u001b[0;34m\u001b[0m\u001b[0m\n\u001b[0;32m----> 2\u001b[0;31m \u001b[0;32mimport\u001b[0m \u001b[0mgeocoder\u001b[0m \u001b[0;31m# import geocoder\u001b[0m\u001b[0;34m\u001b[0m\u001b[0;34m\u001b[0m\u001b[0m\n\u001b[0m\u001b[1;32m      3\u001b[0m \u001b[0;34m\u001b[0m\u001b[0m\n\u001b[1;32m      4\u001b[0m \u001b[0;31m# initialize your variable to None\u001b[0m\u001b[0;34m\u001b[0m\u001b[0;34m\u001b[0m\u001b[0;34m\u001b[0m\u001b[0m\n\u001b[1;32m      5\u001b[0m \u001b[0mlat_lng_coords\u001b[0m \u001b[0;34m=\u001b[0m \u001b[0;32mNone\u001b[0m\u001b[0;34m\u001b[0m\u001b[0;34m\u001b[0m\u001b[0m\n",
                        "\u001b[0;31mModuleNotFoundError\u001b[0m: No module named 'geocoder'"
                    ]
                }
            ],
            "source": "\n# initialize your variable to None\nlat_lng_coords = None\n\n# loop until you get the coordinates\nwhile(lat_lng_coords is None):\n  g = geocoder.google('{}, Toronto, Ontario'.format(postal_code))\n  lat_lng_coords = g.latlng\n\nlatitude = lat_lng_coords[0]\nlongitude = lat_lng_coords[1]"
        },
        {
            "cell_type": "markdown",
            "metadata": {},
            "source": "Take a look at the empty dataframe to confirm that the columns are as intended."
        },
        {
            "cell_type": "code",
            "execution_count": null,
            "metadata": {},
            "outputs": [],
            "source": "neighborhoods"
        },
        {
            "cell_type": "markdown",
            "metadata": {},
            "source": "Then let's loop through the data and fill the dataframe one row at a time."
        },
        {
            "cell_type": "code",
            "execution_count": null,
            "metadata": {},
            "outputs": [],
            "source": "for data in neighborhoods_data:\n    borough = neighborhood_name = data['properties']['borough'] \n    neighborhood_name = data['properties']['name']\n        \n    neighborhood_latlon = data['geometry']['coordinates']\n    neighborhood_lat = neighborhood_latlon[1]\n    neighborhood_lon = neighborhood_latlon[0]\n    \n    neighborhoods = neighborhoods.append({'Borough': borough,\n                                          'Neighborhood': neighborhood_name,\n                                          'Latitude': neighborhood_lat,\n                                          'Longitude': neighborhood_lon}, ignore_index=True)"
        },
        {
            "cell_type": "markdown",
            "metadata": {},
            "source": "Quickly examine the resulting dataframe."
        },
        {
            "cell_type": "code",
            "execution_count": null,
            "metadata": {
                "scrolled": true
            },
            "outputs": [],
            "source": "neighborhoods.head()"
        },
        {
            "cell_type": "markdown",
            "metadata": {},
            "source": "And make sure that the dataset has all 5 boroughs and 306 neighborhoods."
        },
        {
            "cell_type": "code",
            "execution_count": null,
            "metadata": {},
            "outputs": [],
            "source": "print('The dataframe has {} boroughs and {} neighborhoods.'.format(\n        len(neighborhoods['Borough'].unique()),\n        neighborhoods.shape[0]\n    )\n)"
        },
        {
            "cell_type": "markdown",
            "metadata": {},
            "source": "#### Use geopy library to get the latitude and longitude values of New York City."
        },
        {
            "cell_type": "markdown",
            "metadata": {},
            "source": "In order to define an instance of the geocoder, we need to define a user_agent. We will name our agent <em>ny_explorer</em>, as shown below."
        },
        {
            "cell_type": "code",
            "execution_count": null,
            "metadata": {
                "scrolled": true
            },
            "outputs": [],
            "source": "address = 'New York City, NY'\n\ngeolocator = Nominatim(user_agent=\"ny_explorer\")\nlocation = geolocator.geocode(address)\nlatitude = location.latitude\nlongitude = location.longitude\nprint('The geograpical coordinate of New York City are {}, {}.'.format(latitude, longitude))"
        },
        {
            "cell_type": "markdown",
            "metadata": {},
            "source": "#### Create a map of New York with neighborhoods superimposed on top."
        },
        {
            "cell_type": "code",
            "execution_count": null,
            "metadata": {},
            "outputs": [],
            "source": "# create map of New York using latitude and longitude values\nmap_newyork = folium.Map(location=[latitude, longitude], zoom_start=10)\n\n# add markers to map\nfor lat, lng, borough, neighborhood in zip(neighborhoods['Latitude'], neighborhoods['Longitude'], neighborhoods['Borough'], neighborhoods['Neighborhood']):\n    label = '{}, {}'.format(neighborhood, borough)\n    label = folium.Popup(label, parse_html=True)\n    folium.CircleMarker(\n        [lat, lng],\n        radius=5,\n        popup=label,\n        color='blue',\n        fill=True,\n        fill_color='#3186cc',\n        fill_opacity=0.7,\n        parse_html=False).add_to(map_newyork)  \n    \nmap_newyork"
        },
        {
            "cell_type": "markdown",
            "metadata": {},
            "source": "**Folium** is a great visualization library. Feel free to zoom into the above map, and click on each circle mark to reveal the name of the neighborhood and its respective borough."
        },
        {
            "cell_type": "markdown",
            "metadata": {},
            "source": "However, for illustration purposes, let's simplify the above map and segment and cluster only the neighborhoods in Manhattan. So let's slice the original dataframe and create a new dataframe of the Manhattan data."
        },
        {
            "cell_type": "code",
            "execution_count": null,
            "metadata": {},
            "outputs": [],
            "source": "manhattan_data = neighborhoods[neighborhoods['Borough'] == 'Manhattan'].reset_index(drop=True)\nmanhattan_data.head()"
        },
        {
            "cell_type": "markdown",
            "metadata": {},
            "source": "Let's get the geographical coordinates of Manhattan."
        },
        {
            "cell_type": "code",
            "execution_count": null,
            "metadata": {},
            "outputs": [],
            "source": "address = 'Manhattan, NY'\n\ngeolocator = Nominatim(user_agent=\"ny_explorer\")\nlocation = geolocator.geocode(address)\nlatitude = location.latitude\nlongitude = location.longitude\nprint('The geograpical coordinate of Manhattan are {}, {}.'.format(latitude, longitude))"
        },
        {
            "cell_type": "markdown",
            "metadata": {},
            "source": "As we did with all of New York City, let's visualizat Manhattan the neighborhoods in it."
        },
        {
            "cell_type": "code",
            "execution_count": null,
            "metadata": {},
            "outputs": [],
            "source": "# create map of Manhattan using latitude and longitude values\nmap_manhattan = folium.Map(location=[latitude, longitude], zoom_start=11)\n\n# add markers to map\nfor lat, lng, label in zip(manhattan_data['Latitude'], manhattan_data['Longitude'], manhattan_data['Neighborhood']):\n    label = folium.Popup(label, parse_html=True)\n    folium.CircleMarker(\n        [lat, lng],\n        radius=5,\n        popup=label,\n        color='blue',\n        fill=True,\n        fill_color='#3186cc',\n        fill_opacity=0.7,\n        parse_html=False).add_to(map_manhattan)  \n    \nmap_manhattan"
        },
        {
            "cell_type": "markdown",
            "metadata": {},
            "source": "Next, we are going to start utilizing the Foursquare API to explore the neighborhoods and segment them."
        },
        {
            "cell_type": "markdown",
            "metadata": {},
            "source": "#### Define Foursquare Credentials and Version"
        },
        {
            "cell_type": "code",
            "execution_count": null,
            "metadata": {},
            "outputs": [],
            "source": "CLIENT_ID = 'your-client-ID' # your Foursquare ID\nCLIENT_SECRET = 'your-client-secret' # your Foursquare Secret\nVERSION = '20180605' # Foursquare API version\n\nprint('Your credentails:')\nprint('CLIENT_ID: ' + CLIENT_ID)\nprint('CLIENT_SECRET:' + CLIENT_SECRET)"
        },
        {
            "cell_type": "markdown",
            "metadata": {},
            "source": "#### Let's explore the first neighborhood in our dataframe."
        },
        {
            "cell_type": "markdown",
            "metadata": {},
            "source": "Get the neighborhood's name."
        },
        {
            "cell_type": "code",
            "execution_count": null,
            "metadata": {},
            "outputs": [],
            "source": "manhattan_data.loc[0, 'Neighborhood']"
        },
        {
            "cell_type": "markdown",
            "metadata": {},
            "source": "Get the neighborhood's latitude and longitude values."
        },
        {
            "cell_type": "code",
            "execution_count": null,
            "metadata": {},
            "outputs": [],
            "source": "neighborhood_latitude = manhattan_data.loc[0, 'Latitude'] # neighborhood latitude value\nneighborhood_longitude = manhattan_data.loc[0, 'Longitude'] # neighborhood longitude value\n\nneighborhood_name = manhattan_data.loc[0, 'Neighborhood'] # neighborhood name\n\nprint('Latitude and longitude values of {} are {}, {}.'.format(neighborhood_name, \n                                                               neighborhood_latitude, \n                                                               neighborhood_longitude))"
        },
        {
            "cell_type": "markdown",
            "metadata": {},
            "source": "#### Now, let's get the top 100 venues that are in Marble Hill within a radius of 500 meters."
        },
        {
            "cell_type": "markdown",
            "metadata": {},
            "source": "First, let's create the GET request URL. Name your URL **url**."
        },
        {
            "cell_type": "code",
            "execution_count": null,
            "metadata": {
                "scrolled": true
            },
            "outputs": [],
            "source": "# type your answer here\n\n\n\n"
        },
        {
            "cell_type": "markdown",
            "metadata": {},
            "source": "Double-click __here__ for the solution.\n<!-- The correct answer is:\nLIMIT = 100 # limit of number of venues returned by Foursquare API\n-->\n\n<!--\nradius = 500 # define radius\n-->\n\n<!--\n\\\\ # create URL\nurl = 'https://api.foursquare.com/v2/venues/explore?&client_id={}&client_secret={}&v={}&ll={},{}&radius={}&limit={}'.format(\n    CLIENT_ID, \n    CLIENT_SECRET, \n    VERSION, \n    neighborhood_latitude, \n    neighborhood_longitude, \n    radius, \n    LIMIT)\nurl # display URL\n--> "
        },
        {
            "cell_type": "markdown",
            "metadata": {},
            "source": "Send the GET request and examine the resutls"
        },
        {
            "cell_type": "code",
            "execution_count": null,
            "metadata": {},
            "outputs": [],
            "source": "results = requests.get(url).json()\nresults"
        },
        {
            "cell_type": "markdown",
            "metadata": {},
            "source": "From the Foursquare lab in the previous module, we know that all the information is in the *items* key. Before we proceed, let's borrow the **get_category_type** function from the Foursquare lab."
        },
        {
            "cell_type": "code",
            "execution_count": null,
            "metadata": {
                "collapsed": true
            },
            "outputs": [],
            "source": "# function that extracts the category of the venue\ndef get_category_type(row):\n    try:\n        categories_list = row['categories']\n    except:\n        categories_list = row['venue.categories']\n        \n    if len(categories_list) == 0:\n        return None\n    else:\n        return categories_list[0]['name']"
        },
        {
            "cell_type": "markdown",
            "metadata": {},
            "source": "Now we are ready to clean the json and structure it into a *pandas* dataframe."
        },
        {
            "cell_type": "code",
            "execution_count": null,
            "metadata": {},
            "outputs": [],
            "source": "venues = results['response']['groups'][0]['items']\n    \nnearby_venues = json_normalize(venues) # flatten JSON\n\n# filter columns\nfiltered_columns = ['venue.name', 'venue.categories', 'venue.location.lat', 'venue.location.lng']\nnearby_venues =nearby_venues.loc[:, filtered_columns]\n\n# filter the category for each row\nnearby_venues['venue.categories'] = nearby_venues.apply(get_category_type, axis=1)\n\n# clean columns\nnearby_venues.columns = [col.split(\".\")[-1] for col in nearby_venues.columns]\n\nnearby_venues.head()"
        },
        {
            "cell_type": "markdown",
            "metadata": {},
            "source": "And how many venues were returned by Foursquare?"
        },
        {
            "cell_type": "code",
            "execution_count": null,
            "metadata": {},
            "outputs": [],
            "source": "print('{} venues were returned by Foursquare.'.format(nearby_venues.shape[0]))"
        },
        {
            "cell_type": "markdown",
            "metadata": {},
            "source": "<a id='item2'></a>"
        },
        {
            "cell_type": "markdown",
            "metadata": {},
            "source": "## 2. Explore Neighborhoods in Manhattan"
        },
        {
            "cell_type": "markdown",
            "metadata": {},
            "source": "#### Let's create a function to repeat the same process to all the neighborhoods in Manhattan"
        },
        {
            "cell_type": "code",
            "execution_count": null,
            "metadata": {
                "collapsed": true
            },
            "outputs": [],
            "source": "def getNearbyVenues(names, latitudes, longitudes, radius=500):\n    \n    venues_list=[]\n    for name, lat, lng in zip(names, latitudes, longitudes):\n        print(name)\n            \n        # create the API request URL\n        url = 'https://api.foursquare.com/v2/venues/explore?&client_id={}&client_secret={}&v={}&ll={},{}&radius={}&limit={}'.format(\n            CLIENT_ID, \n            CLIENT_SECRET, \n            VERSION, \n            lat, \n            lng, \n            radius, \n            LIMIT)\n            \n        # make the GET request\n        results = requests.get(url).json()[\"response\"]['groups'][0]['items']\n        \n        # return only relevant information for each nearby venue\n        venues_list.append([(\n            name, \n            lat, \n            lng, \n            v['venue']['name'], \n            v['venue']['location']['lat'], \n            v['venue']['location']['lng'],  \n            v['venue']['categories'][0]['name']) for v in results])\n\n    nearby_venues = pd.DataFrame([item for venue_list in venues_list for item in venue_list])\n    nearby_venues.columns = ['Neighborhood', \n                  'Neighborhood Latitude', \n                  'Neighborhood Longitude', \n                  'Venue', \n                  'Venue Latitude', \n                  'Venue Longitude', \n                  'Venue Category']\n    \n    return(nearby_venues)"
        },
        {
            "cell_type": "markdown",
            "metadata": {},
            "source": "#### Now write the code to run the above function on each neighborhood and create a new dataframe called *manhattan_venues*."
        },
        {
            "cell_type": "code",
            "execution_count": null,
            "metadata": {
                "scrolled": true
            },
            "outputs": [],
            "source": "# type your answer here\n\nmanhattan_venues = getNearbyVenues(names=manhattan_data['Neighborhood'],\n                                   latitudes=manhattan_data['Latitude'],\n                                   longitudes=manhattan_data['Longitude']\n                                  )\n\n"
        },
        {
            "cell_type": "markdown",
            "metadata": {},
            "source": "Double-click __here__ for the solution.\n<!-- The correct answer is:\nmanhattan_venues = getNearbyVenues(names=manhattan_data['Neighborhood'],\n                                   latitudes=manhattan_data['Latitude'],\n                                   longitudes=manhattan_data['Longitude']\n                                  )\n--> "
        },
        {
            "cell_type": "markdown",
            "metadata": {},
            "source": "#### Let's check the size of the resulting dataframe"
        },
        {
            "cell_type": "code",
            "execution_count": null,
            "metadata": {},
            "outputs": [],
            "source": "print(manhattan_venues.shape)\nmanhattan_venues.head()"
        },
        {
            "cell_type": "markdown",
            "metadata": {},
            "source": "Let's check how many venues were returned for each neighborhood"
        },
        {
            "cell_type": "code",
            "execution_count": null,
            "metadata": {},
            "outputs": [],
            "source": "manhattan_venues.groupby('Neighborhood').count()"
        },
        {
            "cell_type": "markdown",
            "metadata": {},
            "source": "#### Let's find out how many unique categories can be curated from all the returned venues"
        },
        {
            "cell_type": "code",
            "execution_count": null,
            "metadata": {},
            "outputs": [],
            "source": "print('There are {} uniques categories.'.format(len(manhattan_venues['Venue Category'].unique())))"
        },
        {
            "cell_type": "markdown",
            "metadata": {},
            "source": "<a id='item3'></a>"
        },
        {
            "cell_type": "markdown",
            "metadata": {},
            "source": "## 3. Analyze Each Neighborhood"
        },
        {
            "cell_type": "code",
            "execution_count": null,
            "metadata": {},
            "outputs": [],
            "source": "# one hot encoding\nmanhattan_onehot = pd.get_dummies(manhattan_venues[['Venue Category']], prefix=\"\", prefix_sep=\"\")\n\n# add neighborhood column back to dataframe\nmanhattan_onehot['Neighborhood'] = manhattan_venues['Neighborhood'] \n\n# move neighborhood column to the first column\nfixed_columns = [manhattan_onehot.columns[-1]] + list(manhattan_onehot.columns[:-1])\nmanhattan_onehot = manhattan_onehot[fixed_columns]\n\nmanhattan_onehot.head()"
        },
        {
            "cell_type": "markdown",
            "metadata": {},
            "source": "And let's examine the new dataframe size."
        },
        {
            "cell_type": "code",
            "execution_count": null,
            "metadata": {},
            "outputs": [],
            "source": "manhattan_onehot.shape"
        },
        {
            "cell_type": "markdown",
            "metadata": {},
            "source": "#### Next, let's group rows by neighborhood and by taking the mean of the frequency of occurrence of each category"
        },
        {
            "cell_type": "code",
            "execution_count": null,
            "metadata": {},
            "outputs": [],
            "source": "manhattan_grouped = manhattan_onehot.groupby('Neighborhood').mean().reset_index()\nmanhattan_grouped"
        },
        {
            "cell_type": "markdown",
            "metadata": {},
            "source": "#### Let's confirm the new size"
        },
        {
            "cell_type": "code",
            "execution_count": null,
            "metadata": {},
            "outputs": [],
            "source": "manhattan_grouped.shape"
        },
        {
            "cell_type": "markdown",
            "metadata": {},
            "source": "#### Let's print each neighborhood along with the top 5 most common venues"
        },
        {
            "cell_type": "code",
            "execution_count": null,
            "metadata": {},
            "outputs": [],
            "source": "num_top_venues = 5\n\nfor hood in manhattan_grouped['Neighborhood']:\n    print(\"----\"+hood+\"----\")\n    temp = manhattan_grouped[manhattan_grouped['Neighborhood'] == hood].T.reset_index()\n    temp.columns = ['venue','freq']\n    temp = temp.iloc[1:]\n    temp['freq'] = temp['freq'].astype(float)\n    temp = temp.round({'freq': 2})\n    print(temp.sort_values('freq', ascending=False).reset_index(drop=True).head(num_top_venues))\n    print('\\n')"
        },
        {
            "cell_type": "markdown",
            "metadata": {},
            "source": "#### Let's put that into a *pandas* dataframe"
        },
        {
            "cell_type": "markdown",
            "metadata": {},
            "source": "First, let's write a function to sort the venues in descending order."
        },
        {
            "cell_type": "code",
            "execution_count": null,
            "metadata": {
                "collapsed": true
            },
            "outputs": [],
            "source": "def return_most_common_venues(row, num_top_venues):\n    row_categories = row.iloc[1:]\n    row_categories_sorted = row_categories.sort_values(ascending=False)\n    \n    return row_categories_sorted.index.values[0:num_top_venues]"
        },
        {
            "cell_type": "markdown",
            "metadata": {},
            "source": "Now let's create the new dataframe and display the top 10 venues for each neighborhood."
        },
        {
            "cell_type": "code",
            "execution_count": null,
            "metadata": {},
            "outputs": [],
            "source": "num_top_venues = 10\n\nindicators = ['st', 'nd', 'rd']\n\n# create columns according to number of top venues\ncolumns = ['Neighborhood']\nfor ind in np.arange(num_top_venues):\n    try:\n        columns.append('{}{} Most Common Venue'.format(ind+1, indicators[ind]))\n    except:\n        columns.append('{}th Most Common Venue'.format(ind+1))\n\n# create a new dataframe\nneighborhoods_venues_sorted = pd.DataFrame(columns=columns)\nneighborhoods_venues_sorted['Neighborhood'] = manhattan_grouped['Neighborhood']\n\nfor ind in np.arange(manhattan_grouped.shape[0]):\n    neighborhoods_venues_sorted.iloc[ind, 1:] = return_most_common_venues(manhattan_grouped.iloc[ind, :], num_top_venues)\n\nneighborhoods_venues_sorted.head()"
        },
        {
            "cell_type": "markdown",
            "metadata": {},
            "source": "<a id='item4'></a>"
        },
        {
            "cell_type": "markdown",
            "metadata": {},
            "source": "## 4. Cluster Neighborhoods"
        },
        {
            "cell_type": "markdown",
            "metadata": {},
            "source": "Run *k*-means to cluster the neighborhood into 5 clusters."
        },
        {
            "cell_type": "code",
            "execution_count": null,
            "metadata": {},
            "outputs": [],
            "source": "# set number of clusters\nkclusters = 5\n\nmanhattan_grouped_clustering = manhattan_grouped.drop('Neighborhood', 1)\n\n# run k-means clustering\nkmeans = KMeans(n_clusters=kclusters, random_state=0).fit(manhattan_grouped_clustering)\n\n# check cluster labels generated for each row in the dataframe\nkmeans.labels_[0:10] "
        },
        {
            "cell_type": "markdown",
            "metadata": {},
            "source": "Let's create a new dataframe that includes the cluster as well as the top 10 venues for each neighborhood."
        },
        {
            "cell_type": "code",
            "execution_count": null,
            "metadata": {},
            "outputs": [],
            "source": "# add clustering labels\nneighborhoods_venues_sorted.insert(0, 'Cluster Labels', kmeans.labels_)\n\nmanhattan_merged = manhattan_data\n\n# merge toronto_grouped with toronto_data to add latitude/longitude for each neighborhood\nmanhattan_merged = manhattan_merged.join(neighborhoods_venues_sorted.set_index('Neighborhood'), on='Neighborhood')\n\nmanhattan_merged.head() # check the last columns!"
        },
        {
            "cell_type": "markdown",
            "metadata": {},
            "source": "Finally, let's visualize the resulting clusters"
        },
        {
            "cell_type": "code",
            "execution_count": null,
            "metadata": {},
            "outputs": [],
            "source": "# create map\nmap_clusters = folium.Map(location=[latitude, longitude], zoom_start=11)\n\n# set color scheme for the clusters\nx = np.arange(kclusters)\nys = [i + x + (i*x)**2 for i in range(kclusters)]\ncolors_array = cm.rainbow(np.linspace(0, 1, len(ys)))\nrainbow = [colors.rgb2hex(i) for i in colors_array]\n\n# add markers to the map\nmarkers_colors = []\nfor lat, lon, poi, cluster in zip(manhattan_merged['Latitude'], manhattan_merged['Longitude'], manhattan_merged['Neighborhood'], manhattan_merged['Cluster Labels']):\n    label = folium.Popup(str(poi) + ' Cluster ' + str(cluster), parse_html=True)\n    folium.CircleMarker(\n        [lat, lon],\n        radius=5,\n        popup=label,\n        color=rainbow[cluster-1],\n        fill=True,\n        fill_color=rainbow[cluster-1],\n        fill_opacity=0.7).add_to(map_clusters)\n       \nmap_clusters"
        },
        {
            "cell_type": "markdown",
            "metadata": {},
            "source": "<a id='item5'></a>"
        },
        {
            "cell_type": "markdown",
            "metadata": {},
            "source": "## 5. Examine Clusters"
        },
        {
            "cell_type": "markdown",
            "metadata": {},
            "source": "Now, you can examine each cluster and determine the discriminating venue categories that distinguish each cluster. Based on the defining categories, you can then assign a name to each cluster. I will leave this exercise to you."
        },
        {
            "cell_type": "markdown",
            "metadata": {},
            "source": "#### Cluster 1"
        },
        {
            "cell_type": "code",
            "execution_count": null,
            "metadata": {},
            "outputs": [],
            "source": "manhattan_merged.loc[manhattan_merged['Cluster Labels'] == 0, manhattan_merged.columns[[1] + list(range(5, manhattan_merged.shape[1]))]]"
        },
        {
            "cell_type": "markdown",
            "metadata": {},
            "source": "#### Cluster 2"
        },
        {
            "cell_type": "code",
            "execution_count": null,
            "metadata": {},
            "outputs": [],
            "source": "manhattan_merged.loc[manhattan_merged['Cluster Labels'] == 1, manhattan_merged.columns[[1] + list(range(5, manhattan_merged.shape[1]))]]"
        },
        {
            "cell_type": "markdown",
            "metadata": {},
            "source": "#### Cluster 3"
        },
        {
            "cell_type": "code",
            "execution_count": null,
            "metadata": {},
            "outputs": [],
            "source": "manhattan_merged.loc[manhattan_merged['Cluster Labels'] == 2, manhattan_merged.columns[[1] + list(range(5, manhattan_merged.shape[1]))]]"
        },
        {
            "cell_type": "markdown",
            "metadata": {},
            "source": "#### Cluster 4"
        },
        {
            "cell_type": "code",
            "execution_count": null,
            "metadata": {},
            "outputs": [],
            "source": "manhattan_merged.loc[manhattan_merged['Cluster Labels'] == 3, manhattan_merged.columns[[1] + list(range(5, manhattan_merged.shape[1]))]]"
        },
        {
            "cell_type": "markdown",
            "metadata": {},
            "source": "#### Cluster 5"
        },
        {
            "cell_type": "code",
            "execution_count": null,
            "metadata": {},
            "outputs": [],
            "source": "manhattan_merged.loc[manhattan_merged['Cluster Labels'] == 4, manhattan_merged.columns[[1] + list(range(5, manhattan_merged.shape[1]))]]"
        },
        {
            "cell_type": "markdown",
            "metadata": {},
            "source": "### Thank you for completing this lab!\n\nThis notebook was created by [Alex Aklson](https://www.linkedin.com/in/aklson/) and [Polong Lin](https://www.linkedin.com/in/polonglin/). I hope you found this lab interesting and educational. Feel free to contact us if you have any questions!"
        },
        {
            "cell_type": "markdown",
            "metadata": {},
            "source": "This notebook is part of a course on **Coursera** called *Applied Data Science Capstone*. If you accessed this notebook outside the course, you can take this course online by clicking [here](http://cocl.us/DP0701EN_Coursera_Week3_LAB2)."
        },
        {
            "cell_type": "markdown",
            "metadata": {},
            "source": "<hr>\n\nCopyright &copy; 2018 [Cognitive Class](https://cognitiveclass.ai/?utm_source=bducopyrightlink&utm_medium=dswb&utm_campaign=bdu). This notebook and its source code are released under the terms of the [MIT License](https://bigdatauniversity.com/mit-license/)."
        }
    ],
    "metadata": {
        "kernelspec": {
            "display_name": "Python 3.6",
            "language": "python",
            "name": "python3"
        },
        "language_info": {
            "codemirror_mode": {
                "name": "ipython",
                "version": 3
            },
            "file_extension": ".py",
            "mimetype": "text/x-python",
            "name": "python",
            "nbconvert_exporter": "python",
            "pygments_lexer": "ipython3",
            "version": "3.6.9"
        },
        "widgets": {
            "state": {},
            "version": "1.1.2"
        }
    },
    "nbformat": 4,
    "nbformat_minor": 2
}